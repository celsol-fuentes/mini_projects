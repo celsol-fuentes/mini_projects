{
 "cells": [
  {
   "cell_type": "markdown",
   "id": "killing-conservative",
   "metadata": {},
   "source": [
    "# ENGLISH TO LEET TRANSLATION\n",
    "\n",
    "A project inspired by Al Sweigard from The Big Book of Small Python Projects (Project #40: Leetspeak)\n",
    "\n",
    "Using a dictionary, a for loop and if/else statements, this project shows the coding of translation, or mappings, at its most basic level."
   ]
  },
  {
   "cell_type": "markdown",
   "id": "sacred-silicon",
   "metadata": {},
   "source": [
    "### What is Leet?\n",
    "\n",
    "This project translates English letters into \"Leet\" characters, aka \"Leetspeak\".\n",
    "\n",
    "Leet can be traced back to 1980s bulletin board systems (BBS) where having \"elite\" status granted users access to extra features. It may have been developed to circumvent censorship of discussions on forbidden topics (cracking, hacking). For more on Leet, visit https://en.wikipedia.org/wiki/Leet\n",
    "\n",
    "A more sophisticated version of calculator writing, Leet uses character replacement based on similarities of Leet glyphs to English letters via reflection, phonetic resemblance, or visual resemblance. For example:\n",
    "- 'e' -> '3' reflection of uppercase E\n",
    "- 'f' -> 'ph' phonetic resemblance\n",
    "- 'u' -> '|_|' visual resemblance\n",
    "\n",
    "For some English letters, there can be multiple Leet possibilities. For example:\n",
    "- 't' -> '+' or '7'"
   ]
  },
  {
   "cell_type": "markdown",
   "id": "sweet-thought",
   "metadata": {},
   "source": [
    "### The \"charMapping\" Dictionary\n",
    "The translation from English to Leet is done via mapping lowercase English letters to Leet characters in the \"charMapping\" dictionary.\n",
    "\n",
    "Of the 26 letters in the English alphabet:\n",
    "- thirteen letters do not appear in \"charMapping\": these letters, or any character not found in the dictionary, will remain unchanged in the Leet output string\n",
    "- for the thirteen other letters that are in \"charMapping\": possible output values appear as lists \n",
    "- five letters, 'a', 'h', 'i', 's', and 't', map to more than one Leet character\n"
   ]
  },
  {
   "cell_type": "markdown",
   "id": "international-pottery",
   "metadata": {},
   "source": [
    "### The use of Random\n",
    "\n",
    "Using the random module makes the outputs more variable.\n",
    "\n",
    "Whether a possible mapping from the \"charMapping\" dictionary is outputted, depends on whether the second condition, random.random( ) <= 0.7, in the if statement is met:\n",
    "- there is a 70% chance the English letter will be outputted as one of the character values attributed to it in the dictionary\n",
    "- and a 30% chance the letter will simply be output unchanged\n",
    "\n",
    "In the case of multiple mappings, the outputted Leet character is chosen by random choice from the mapped list attributed to the letter. \n",
    "\n",
    "Therefore, an English message has multiple possible Leet translations. With a bit of practice, reading Leet becomes more fluid."
   ]
  },
  {
   "cell_type": "code",
   "execution_count": 2,
   "id": "excessive-kinase",
   "metadata": {},
   "outputs": [
    {
     "name": "stdout",
     "output_type": "stream",
     "text": [
      "English to Leet: translation at its most basic level.\n",
      "Celia Fuentes\n",
      "\n",
      "Inspired by Al Sweigard from The Big Book of Small Python Projects (Project #40: Leetspeak)\n",
      "\n",
      "Enter the message to be translated into Leet:\n",
      "> I want to practice reading Leet\n",
      "\n",
      "Leet Translation:\n",
      " | w@nt 7o pr4(7!(3 r34d!ng L3et\n"
     ]
    }
   ],
   "source": [
    "import random\n",
    "\n",
    "def main():\n",
    "    print('''English to Leet: translation at its most basic level.\n",
    "Celia Fuentes\\n\n",
    "Inspired by Al Sweigard from The Big Book of Small Python Projects (Project #40: Leetspeak)\n",
    "\n",
    "Enter the message to be translated into Leet:''')\n",
    "    message = input('> ')\n",
    "    print()\n",
    "    leet = englishToLeet(message)\n",
    "    print(leet)\n",
    "    \n",
    "def englishToLeet(message):\n",
    "    \"\"\"A function that inputs an English string message and outputs it in Leet.\n",
    "    \n",
    "    Parameters:\n",
    "    \n",
    "        message (string): input a string\n",
    "    \n",
    "    \n",
    "    Returns:\n",
    "    \n",
    "        outputs the message with a character unchanged or replaced by one of the mappings in the charMapping dictionary. \n",
    "    \n",
    "    \n",
    "    \"\"\"\n",
    "    \n",
    "    # make sure all characters in charMapping are lowercase\n",
    "    charMapping = {\n",
    "        'a':['4', '@', '/-\\\\'],\n",
    "        'c': ['('],\n",
    "        'd': ['(|'],# confirm\n",
    "        'e': ['3'],\n",
    "        'f': ['ph'],\n",
    "        'h': [']-[', '|-|'],\n",
    "        'i': ['1', '!', '|'],\n",
    "        'k': [']<'],\n",
    "        'o': ['0'],\n",
    "        's': ['$', '5'],\n",
    "        't': ['+', '7'],\n",
    "        'u': [],\n",
    "        'v': ['\\\\/']\n",
    "    }\n",
    "    \n",
    "    leet = ''\n",
    "    \n",
    "    for char in message: # iterate through each character in message\n",
    "        if char.lower() in charMapping and random.random() <= 0.7:\n",
    "            possibleLeetReplacements = charMapping[char.lower()]\n",
    "            leetReplacement = random.choice(possibleLeetReplacements)\n",
    "            leet = leet + leetReplacement\n",
    "            \n",
    "        else:\n",
    "            # leave character as is\n",
    "            leet = leet + char\n",
    "    \n",
    "    return f'Leet Translation:\\n {leet}'\n",
    "\n",
    "# If this program was run (instead of importer), run the game\n",
    "if __name__ == '__main__':\n",
    "    main()"
   ]
  },
  {
   "cell_type": "markdown",
   "id": "limited-listing",
   "metadata": {},
   "source": [
    "### Conclusion\n",
    "\n",
    "This was a quick and fun project to practice basic mappings while learning to read Leet."
   ]
  },
  {
   "cell_type": "markdown",
   "id": "moderate-chess",
   "metadata": {},
   "source": [
    "### Help info from the docstring"
   ]
  },
  {
   "cell_type": "code",
   "execution_count": 3,
   "id": "governmental-riding",
   "metadata": {},
   "outputs": [
    {
     "name": "stdout",
     "output_type": "stream",
     "text": [
      "Help on function englishToLeet in module __main__:\n",
      "\n",
      "englishToLeet(message)\n",
      "    A function that inputs an English string message and outputs it in Leet.\n",
      "    \n",
      "    Parameters:\n",
      "    \n",
      "        message (string): input a string\n",
      "    \n",
      "    \n",
      "    Returns:\n",
      "    \n",
      "        outputs the message with a character unchanged or replaced by one of the mappings in the charMapping dictionary.\n",
      "\n"
     ]
    }
   ],
   "source": [
    "# Here's some help info for future users\n",
    "help(englishToLeet)"
   ]
  },
  {
   "cell_type": "code",
   "execution_count": null,
   "id": "incoming-bobby",
   "metadata": {},
   "outputs": [],
   "source": []
  }
 ],
 "metadata": {
  "kernelspec": {
   "display_name": "Python 3",
   "language": "python",
   "name": "python3"
  },
  "language_info": {
   "codemirror_mode": {
    "name": "ipython",
    "version": 3
   },
   "file_extension": ".py",
   "mimetype": "text/x-python",
   "name": "python",
   "nbconvert_exporter": "python",
   "pygments_lexer": "ipython3",
   "version": "3.8.5"
  }
 },
 "nbformat": 4,
 "nbformat_minor": 5
}
