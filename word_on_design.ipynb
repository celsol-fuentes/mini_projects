{
 "cells": [
  {
   "cell_type": "markdown",
   "id": "absolute-sussex",
   "metadata": {},
   "source": [
    "<h1><center>Word on Design</center></h1>\n",
    "<center>inspired by \"Bitmap Message\" project in The Big Book of Small Python Projects (Al Sweigart)</center>"
   ]
  },
  {
   "cell_type": "markdown",
   "id": "characteristic-standing",
   "metadata": {},
   "source": [
    "## PART I: General Info\n",
    "\n",
    "This project displays the characters of an inputted word by following the string design of the image created in the my_design variable. \n",
    "\n",
    "Below is a list of the changes I made to the original project and the lessons I've learned."
   ]
  },
  {
   "cell_type": "markdown",
   "id": "contemporary-heritage",
   "metadata": {},
   "source": [
    "### My changes\n",
    "\n",
    "- I changed the variable 'bitmap' to 'my_design' to reflect any future changes to the display design.\n",
    "\n",
    "\n",
    "- I used the pipe sign instead of dots, because | seems more akin to marks on a ruler, making it easier to eye-ball an image.\n",
    "\n",
    "\n",
    "- I redesigned the image to \"I heart PYTHON\".\n",
    "\n",
    "\n",
    "- I asked the user to enter a word instead of a message. The user should be pleasantly surprised when the code still works with numbers, sentences and/or punctuation signs.\n",
    "\n",
    "\n",
    "- EASTER EGG: in the event the user pressed return/enter without first having entered a word, I added a self-destruct message and countdown using time.sleep( )"
   ]
  },
  {
   "cell_type": "markdown",
   "id": "consecutive-wilson",
   "metadata": {},
   "source": [
    "### Lessons (re)learned with the project\n",
    "\n",
    "- It introduced me to sys.exit( ):\n",
    "        I usually just used break( )\n",
    "        \n",
    "- my_design.splitlines( ):\n",
    "        splits lines whenever \\n is encountered in the string my_design\n",
    "\n",
    "\n",
    "- It reminded me of the usefulness of the enumerate( ) function:\n",
    "        'i' represents the index number of the \"column\" (0-67) per line (row).\n",
    "        'bit' is the character displayed at that given index in the my_design variable:\n",
    "        '|' (like lines in a ruler to help design making), '*', or a ' ' (space).\n",
    "\n",
    "\n",
    "- print(word[i % len(word)]):\n",
    "        This code uses modular arithmetic.\n",
    "        It prints the 'word' character found at the index that results from i%len(word).\n",
    "        \n",
    "- I had forgotten print( ) printed a newline."
   ]
  },
  {
   "cell_type": "code",
   "execution_count": 1,
   "id": "weighted-linux",
   "metadata": {},
   "outputs": [],
   "source": [
    "# to use time.sleep() in the countdown\n",
    "import time\n",
    "\n",
    "# to use sys.exit() to exit if user didn't enter a word\n",
    "import sys"
   ]
  },
  {
   "cell_type": "markdown",
   "id": "silver-parker",
   "metadata": {},
   "source": [
    "This is the design of the image attributed to the my_design variable.\n",
    "\n",
    "There are 68 | along the top and bottom of this string that help frame the design"
   ]
  },
  {
   "cell_type": "code",
   "execution_count": 2,
   "id": "foreign-potential",
   "metadata": {},
   "outputs": [],
   "source": [
    "# the design of the image attributed to the my_design variable\n",
    "\n",
    "my_design = \"\"\"\n",
    "||||||||||||||||||||||||||||||||||||||||||||||||||||||||||||||||||||\n",
    "\n",
    "\n",
    "                    ******           ****   ****\n",
    "                    ******          ****** ******\n",
    "                      **           ******* *******\n",
    "                      **          *****************\n",
    "                      **           ***************\n",
    "                      **            *************\n",
    "                      **              ********\n",
    "                    ******              *****\n",
    "                    ******               ***\n",
    "\n",
    "\n",
    "      ******  ***  *** ********  **   **     ***    ***     ***\n",
    "      *******  **  **  ********  **   **    *****   ****    ***\n",
    "      *******   *  *   ********  *******   *******  *****   ***\n",
    "      *****      **       **     *******  ********* ******  ***\n",
    "      **         **       **     **   **   *******  ***  ** ***\n",
    "      **         **       **     **   **    *****   ***   *****\n",
    "      **         **       **     **   **     ***    ***    ****\n",
    "\n",
    "||||||||||||||||||||||||||||||||||||||||||||||||||||||||||||||||||||\"\"\""
   ]
  },
  {
   "cell_type": "markdown",
   "id": "hazardous-microwave",
   "metadata": {},
   "source": [
    "The project in action."
   ]
  },
  {
   "cell_type": "code",
   "execution_count": 3,
   "id": "focal-comparative",
   "metadata": {},
   "outputs": [
    {
     "name": "stdout",
     "output_type": "stream",
     "text": [
      "Please enter a word to display in my design.\n",
      "> @\n",
      "\n",
      "@@@@@@@@@@@@@@@@@@@@@@@@@@@@@@@@@@@@@@@@@@@@@@@@@@@@@@@@@@@@@@@@@@@@\n",
      "\n",
      "\n",
      "                    @@@@@@           @@@@   @@@@\n",
      "                    @@@@@@          @@@@@@ @@@@@@\n",
      "                      @@           @@@@@@@ @@@@@@@\n",
      "                      @@          @@@@@@@@@@@@@@@@@\n",
      "                      @@           @@@@@@@@@@@@@@@\n",
      "                      @@            @@@@@@@@@@@@@\n",
      "                      @@              @@@@@@@@\n",
      "                    @@@@@@              @@@@@\n",
      "                    @@@@@@               @@@\n",
      "\n",
      "\n",
      "      @@@@@@  @@@  @@@ @@@@@@@@  @@   @@     @@@    @@@     @@@\n",
      "      @@@@@@@  @@  @@  @@@@@@@@  @@   @@    @@@@@   @@@@    @@@\n",
      "      @@@@@@@   @  @   @@@@@@@@  @@@@@@@   @@@@@@@  @@@@@   @@@\n",
      "      @@@@@      @@       @@     @@@@@@@  @@@@@@@@@ @@@@@@  @@@\n",
      "      @@         @@       @@     @@   @@   @@@@@@@  @@@  @@ @@@\n",
      "      @@         @@       @@     @@   @@    @@@@@   @@@   @@@@@\n",
      "      @@         @@       @@     @@   @@     @@@    @@@    @@@@\n",
      "\n",
      "@@@@@@@@@@@@@@@@@@@@@@@@@@@@@@@@@@@@@@@@@@@@@@@@@@@@@@@@@@@@@@@@@@@@\n"
     ]
    }
   ],
   "source": [
    "print('Please enter a word to display in my design.')\n",
    "word = input('> ')\n",
    "\n",
    "if word == '':\n",
    "    print(\"Why didn't you enter a word?\")\n",
    "    time.sleep(2)\n",
    "    print(\"This program will self destruct in 5 seconds.\")\n",
    "    time.sleep(2)\n",
    "    \n",
    "    countdown = 5\n",
    "    while countdown > 0:\n",
    "        print(f'{countdown}...')\n",
    "        countdown-=1\n",
    "        time.sleep(1) # Sleep for 2 seconds\n",
    "\n",
    "    print('\\tBOOM!')\n",
    "    sys.exit()\n",
    "\n",
    "\n",
    "# loop over each line (row) in the bitmap:\n",
    "for line in my_design.splitlines():\n",
    "    # loop over each character in the line:\n",
    "    for i, bit in enumerate(line):\n",
    "        if bit == ' ':\n",
    "            # print an empty space since there's a space in my_design:\n",
    "            print(' ', end='')\n",
    "        else:\n",
    "            # print a character from the inputted word:\n",
    "            print(word[i % len(word)], end='')\n",
    "            \n",
    "    print() # prints a newline (or else the output will all be displayed 1 line)"
   ]
  },
  {
   "cell_type": "markdown",
   "id": "grave-overhead",
   "metadata": {},
   "source": [
    "## PART II: Turning the project into a function\n",
    "\n",
    "In this section, I made a 'word_on_design' function and its corresponding docstring."
   ]
  },
  {
   "cell_type": "code",
   "execution_count": 4,
   "id": "fresh-obligation",
   "metadata": {},
   "outputs": [],
   "source": [
    "def word_on_design(word):\n",
    "    \"\"\"A function that displays the characters of an inputted word\n",
    "    following the string design of the image created in the my_design variable.\n",
    "    \n",
    "    Parameters:\n",
    "    \n",
    "        word (string): input a string\n",
    "    \n",
    "    \n",
    "    Returns:\n",
    "    \n",
    "        displays the characters of the word following the design of the my_design variable.\n",
    "        \n",
    "    \"\"\"\n",
    "    \n",
    "    \n",
    "    import time # to use time.sleep() in the countdown\n",
    "    \n",
    "    import sys # to use sys.exit() to exit if user didn't enter a word\n",
    "    \n",
    "    my_design = \"\"\"\n",
    "....................................................................\n",
    "\n",
    "\n",
    "                    ******           ****   ****\n",
    "                    ******          ****** ******\n",
    "                      **           ******* *******\n",
    "                      **          *****************\n",
    "                      **           ***************\n",
    "                      **            *************\n",
    "                      **              ********\n",
    "                    ******              *****\n",
    "                    ******               ***\n",
    "\n",
    "\n",
    "      ******  ***  *** ********  **   **     ***    ***     ***\n",
    "      *******  **  **  ********  **   **    *****   ****    ***\n",
    "      *******   *  *   ********  *******   *******  *****   ***\n",
    "      *****      **       **     *******  ********* ******  ***\n",
    "      **         **       **     **   **   *******  ***  ** ***\n",
    "      **         **       **     **   **    *****   ***   *****\n",
    "      **         **       **     **   **     ***    ***    ****\n",
    "\n",
    "....................................................................\"\"\"\n",
    "\n",
    "    if word == '':\n",
    "        print(\"Why didn't you enter a word?\")\n",
    "        time.sleep(2) # Sleep for 2 seconds\n",
    "        print(\"This program will self destruct in 5 seconds.\")\n",
    "        time.sleep(2) # Sleep for 2 seconds\n",
    "    \n",
    "        countdown = 5\n",
    "        while countdown > 0:\n",
    "            print(f'{countdown}...')\n",
    "            countdown-=1\n",
    "            time.sleep(1) # Sleep for 1 seconds\n",
    "\n",
    "        print(\"\\tJust kidding.\")\n",
    "        time.sleep(2)\n",
    "        print(\"\\t\\tBut please enter a word next time.\")\n",
    "        time.sleep(2)\n",
    "        print(\"\\tBye for now.\")\n",
    "        time.sleep(2)\n",
    "        sys.exit()\n",
    "\n",
    "\n",
    "    # loop over each line (row) in my_design:\n",
    "    for line in my_design.splitlines():\n",
    "        # loop over each character in the line:\n",
    "        for i, bit in enumerate(line):\n",
    "            if bit == ' ':\n",
    "                # print an empty space since there's a space in the bitmap:\n",
    "                print(' ', end='')\n",
    "            else:\n",
    "                # print a character from the word:\n",
    "                print(word[i % len(word)], end='')\n",
    "        print() # prints a newline (or else the output will be displayed 1 line)"
   ]
  },
  {
   "cell_type": "markdown",
   "id": "incident-disabled",
   "metadata": {},
   "source": [
    "### What happens with an empty string argument ?"
   ]
  },
  {
   "cell_type": "code",
   "execution_count": 5,
   "id": "collect-republican",
   "metadata": {},
   "outputs": [
    {
     "name": "stdout",
     "output_type": "stream",
     "text": [
      "Why didn't you enter a word?\n",
      "This program will self destruct in 5 seconds.\n",
      "5...\n",
      "4...\n",
      "3...\n",
      "2...\n",
      "1...\n",
      "\tJust kidding.\n",
      "\t\tBut please enter a word next time.\n",
      "\tBye for now.\n"
     ]
    },
    {
     "ename": "SystemExit",
     "evalue": "",
     "output_type": "error",
     "traceback": [
      "An exception has occurred, use %tb to see the full traceback.\n",
      "\u001b[0;31mSystemExit\u001b[0m\n"
     ]
    },
    {
     "name": "stderr",
     "output_type": "stream",
     "text": [
      "/Users/celia/opt/anaconda3/lib/python3.8/site-packages/IPython/core/interactiveshell.py:3449: UserWarning: To exit: use 'exit', 'quit', or Ctrl-D.\n",
      "  warn(\"To exit: use 'exit', 'quit', or Ctrl-D.\", stacklevel=1)\n"
     ]
    }
   ],
   "source": [
    "word_on_design('')"
   ]
  },
  {
   "cell_type": "markdown",
   "id": "hawaiian-captain",
   "metadata": {},
   "source": [
    "### Help info from the docstring"
   ]
  },
  {
   "cell_type": "code",
   "execution_count": 6,
   "id": "american-layer",
   "metadata": {},
   "outputs": [
    {
     "name": "stdout",
     "output_type": "stream",
     "text": [
      "Help on function word_on_design in module __main__:\n",
      "\n",
      "word_on_design(word)\n",
      "    A function that displays the characters of an inputted word\n",
      "    following the string design of the image created in the my_design variable.\n",
      "    \n",
      "    Parameters:\n",
      "    \n",
      "        word (string): input a string\n",
      "    \n",
      "    \n",
      "    Returns:\n",
      "    \n",
      "        displays the characters of the word following the design of the my_design variable.\n",
      "\n"
     ]
    }
   ],
   "source": [
    "# Here's some help info for future users.\n",
    "help(word_on_design)"
   ]
  },
  {
   "cell_type": "code",
   "execution_count": null,
   "id": "collectible-compact",
   "metadata": {},
   "outputs": [],
   "source": []
  }
 ],
 "metadata": {
  "kernelspec": {
   "display_name": "Python 3",
   "language": "python",
   "name": "python3"
  },
  "language_info": {
   "codemirror_mode": {
    "name": "ipython",
    "version": 3
   },
   "file_extension": ".py",
   "mimetype": "text/x-python",
   "name": "python",
   "nbconvert_exporter": "python",
   "pygments_lexer": "ipython3",
   "version": "3.8.5"
  }
 },
 "nbformat": 4,
 "nbformat_minor": 5
}
